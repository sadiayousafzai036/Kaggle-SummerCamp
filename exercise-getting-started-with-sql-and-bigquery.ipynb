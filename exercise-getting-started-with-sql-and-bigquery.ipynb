{
 "cells": [
  {
   "cell_type": "markdown",
   "metadata": {},
   "source": [
    "**[SQL Micro-Course Home Page](https://www.kaggle.com/learn/intro-to-sql)**\n",
    "\n",
    "---\n"
   ]
  },
  {
   "cell_type": "markdown",
   "metadata": {},
   "source": [
    "# Introduction\n",
    "\n",
    "The first test of your new data exploration skills uses data describing crime in the city of Chicago.\n",
    "\n",
    "Before you get started, run the following cell. It sets up the automated feedback system to review your answers."
   ]
  },
  {
   "cell_type": "code",
   "execution_count": 1,
   "metadata": {},
   "outputs": [
    {
     "name": "stdout",
     "output_type": "stream",
     "text": [
      "Using Kaggle's public dataset BigQuery integration.\n",
      "Setup Complete\n"
     ]
    }
   ],
   "source": [
    "# Set up feedack system\n",
    "from learntools.core import binder\n",
    "binder.bind(globals())\n",
    "from learntools.sql.ex1 import *\n",
    "print(\"Setup Complete\")"
   ]
  },
  {
   "cell_type": "markdown",
   "metadata": {},
   "source": [
    "Use the next code cell to fetch the dataset."
   ]
  },
  {
   "cell_type": "code",
   "execution_count": 2,
   "metadata": {},
   "outputs": [
    {
     "name": "stdout",
     "output_type": "stream",
     "text": [
      "Using Kaggle's public dataset BigQuery integration.\n"
     ]
    }
   ],
   "source": [
    "from google.cloud import bigquery\n",
    "\n",
    "# Create a \"Client\" object\n",
    "client = bigquery.Client()\n",
    "\n",
    "# Construct a reference to the \"chicago_crime\" dataset\n",
    "dataset_ref = client.dataset(\"chicago_crime\", project=\"bigquery-public-data\")\n",
    "\n",
    "# API request - fetch the dataset\n",
    "dataset = client.get_dataset(dataset_ref)"
   ]
  },
  {
   "cell_type": "markdown",
   "metadata": {},
   "source": [
    "# Exercises\n",
    "\n",
    "### 1) Count tables in the dataset\n",
    "\n",
    "How many tables are in the Chicago Crime dataset?"
   ]
  },
  {
   "cell_type": "code",
   "execution_count": 3,
   "metadata": {},
   "outputs": [],
   "source": [
    "# Write the code you need here to figure out the answer"
   ]
  },
  {
   "cell_type": "code",
   "execution_count": 4,
   "metadata": {},
   "outputs": [
    {
     "data": {
      "application/javascript": [
       "parent.postMessage({\"jupyterEvent\": \"custom.exercise_interaction\", \"data\": {\"outcomeType\": 1, \"valueTowardsCompletion\": 0.3333333333333333, \"interactionType\": 1, \"questionType\": 1, \"learnTutorialId\": 169, \"questionId\": \"1_CountTables\", \"learnToolsVersion\": \"0.3.1\", \"failureMessage\": \"\", \"exceptionClass\": \"\", \"trace\": \"\"}}, \"*\")"
      ],
      "text/plain": [
       "<IPython.core.display.Javascript object>"
      ]
     },
     "metadata": {},
     "output_type": "display_data"
    },
    {
     "data": {
      "text/markdown": [
       "<span style=\"color:#33cc33\">Correct</span>"
      ],
      "text/plain": [
       "Correct"
      ]
     },
     "metadata": {},
     "output_type": "display_data"
    }
   ],
   "source": [
    "tables  = list(client.list_tables(dataset))\n",
    "num_tables = len(tables) # Store the answer as num_tables and then run this cell\n",
    "\n",
    "q_1.check()"
   ]
  },
  {
   "cell_type": "markdown",
   "metadata": {},
   "source": [
    "For a hint or the solution, uncomment the appropriate line below."
   ]
  },
  {
   "cell_type": "code",
   "execution_count": 5,
   "metadata": {},
   "outputs": [],
   "source": [
    "#q_1.hint()\n",
    "#q_1.solution()"
   ]
  },
  {
   "cell_type": "markdown",
   "metadata": {},
   "source": [
    "### 2) Explore the table schema\n",
    "\n",
    "How many columns in the `crime` table have `TIMESTAMP` data?"
   ]
  },
  {
   "cell_type": "code",
   "execution_count": 6,
   "metadata": {},
   "outputs": [
    {
     "name": "stdout",
     "output_type": "stream",
     "text": [
      "2\n"
     ]
    }
   ],
   "source": [
    "# Write the code to figure out the answer\n",
    "# Construct a reference to the \"full\" table\n",
    "table_ref = dataset_ref.table(\"crime\")\n",
    "count=0\n",
    "# API request - fetch the table\n",
    "table = client.get_table(table_ref)\n",
    "for field in table.schema:\n",
    "    if field.field_type==\"TIMESTAMP\":\n",
    "        count+=1\n",
    "print(count)"
   ]
  },
  {
   "cell_type": "code",
   "execution_count": 7,
   "metadata": {},
   "outputs": [
    {
     "data": {
      "application/javascript": [
       "parent.postMessage({\"jupyterEvent\": \"custom.exercise_interaction\", \"data\": {\"outcomeType\": 1, \"valueTowardsCompletion\": 0.3333333333333333, \"interactionType\": 1, \"questionType\": 1, \"learnTutorialId\": 169, \"questionId\": \"2_CountTimestampFields\", \"learnToolsVersion\": \"0.3.1\", \"failureMessage\": \"\", \"exceptionClass\": \"\", \"trace\": \"\"}}, \"*\")"
      ],
      "text/plain": [
       "<IPython.core.display.Javascript object>"
      ]
     },
     "metadata": {},
     "output_type": "display_data"
    },
    {
     "data": {
      "text/markdown": [
       "<span style=\"color:#33cc33\">Correct</span>"
      ],
      "text/plain": [
       "Correct"
      ]
     },
     "metadata": {},
     "output_type": "display_data"
    }
   ],
   "source": [
    "table_ref = dataset_ref.table(\"crime\")\n",
    "count=0\n",
    "# API request - fetch the table\n",
    "table = client.get_table(table_ref)\n",
    "for field in table.schema:\n",
    "    if field.field_type==\"TIMESTAMP\":\n",
    "        count+=1\n",
    "num_timestamp_fields =count\n",
    "q_2.check()"
   ]
  },
  {
   "cell_type": "markdown",
   "metadata": {},
   "source": [
    "For a hint or the solution, uncomment the appropriate line below."
   ]
  },
  {
   "cell_type": "code",
   "execution_count": 8,
   "metadata": {},
   "outputs": [],
   "source": [
    "#q_2.hint()\n",
    "#q_2.solution()"
   ]
  },
  {
   "cell_type": "markdown",
   "metadata": {},
   "source": [
    "### 3) Create a crime map\n",
    "\n",
    "If you wanted to create a map with a dot at the location of each crime, what are the names of the two fields you likely need to pull out of the `crime` table to plot the crimes on a map?"
   ]
  },
  {
   "cell_type": "code",
   "execution_count": 9,
   "metadata": {},
   "outputs": [
    {
     "data": {
      "text/html": [
       "<div>\n",
       "<style scoped>\n",
       "    .dataframe tbody tr th:only-of-type {\n",
       "        vertical-align: middle;\n",
       "    }\n",
       "\n",
       "    .dataframe tbody tr th {\n",
       "        vertical-align: top;\n",
       "    }\n",
       "\n",
       "    .dataframe thead th {\n",
       "        text-align: right;\n",
       "    }\n",
       "</style>\n",
       "<table border=\"1\" class=\"dataframe\">\n",
       "  <thead>\n",
       "    <tr style=\"text-align: right;\">\n",
       "      <th></th>\n",
       "      <th>unique_key</th>\n",
       "      <th>case_number</th>\n",
       "      <th>date</th>\n",
       "      <th>block</th>\n",
       "      <th>iucr</th>\n",
       "      <th>primary_type</th>\n",
       "      <th>description</th>\n",
       "      <th>location_description</th>\n",
       "      <th>arrest</th>\n",
       "      <th>domestic</th>\n",
       "      <th>...</th>\n",
       "      <th>ward</th>\n",
       "      <th>community_area</th>\n",
       "      <th>fbi_code</th>\n",
       "      <th>x_coordinate</th>\n",
       "      <th>y_coordinate</th>\n",
       "      <th>year</th>\n",
       "      <th>updated_on</th>\n",
       "      <th>latitude</th>\n",
       "      <th>longitude</th>\n",
       "      <th>location</th>\n",
       "    </tr>\n",
       "  </thead>\n",
       "  <tbody>\n",
       "    <tr>\n",
       "      <th>0</th>\n",
       "      <td>11752880</td>\n",
       "      <td>JC342876</td>\n",
       "      <td>2019-07-10 15:00:00+00:00</td>\n",
       "      <td>021XX S ARCHER AVE</td>\n",
       "      <td>0520</td>\n",
       "      <td>ASSAULT</td>\n",
       "      <td>AGGRAVATED:KNIFE/CUTTING INSTR</td>\n",
       "      <td>OTHER</td>\n",
       "      <td>False</td>\n",
       "      <td>False</td>\n",
       "      <td>...</td>\n",
       "      <td>25</td>\n",
       "      <td>34</td>\n",
       "      <td>04A</td>\n",
       "      <td>1175096.0</td>\n",
       "      <td>1890106.0</td>\n",
       "      <td>2019</td>\n",
       "      <td>2019-07-19 16:09:50+00:00</td>\n",
       "      <td>41.853835</td>\n",
       "      <td>-87.632813</td>\n",
       "      <td>(41.853834892, -87.632813038)</td>\n",
       "    </tr>\n",
       "    <tr>\n",
       "      <th>1</th>\n",
       "      <td>11747723</td>\n",
       "      <td>JC336782</td>\n",
       "      <td>2019-07-06 00:02:00+00:00</td>\n",
       "      <td>093XX S ANTHONY AVE</td>\n",
       "      <td>3710</td>\n",
       "      <td>INTERFERENCE WITH PUBLIC OFFICER</td>\n",
       "      <td>RESIST/OBSTRUCT/DISARM OFFICER</td>\n",
       "      <td>STREET</td>\n",
       "      <td>True</td>\n",
       "      <td>False</td>\n",
       "      <td>...</td>\n",
       "      <td>10</td>\n",
       "      <td>48</td>\n",
       "      <td>24</td>\n",
       "      <td>1197215.0</td>\n",
       "      <td>1843671.0</td>\n",
       "      <td>2019</td>\n",
       "      <td>2019-07-19 16:09:50+00:00</td>\n",
       "      <td>41.725891</td>\n",
       "      <td>-87.553176</td>\n",
       "      <td>(41.725890891, -87.553176372)</td>\n",
       "    </tr>\n",
       "    <tr>\n",
       "      <th>2</th>\n",
       "      <td>11750800</td>\n",
       "      <td>JC340390</td>\n",
       "      <td>2019-06-17 00:00:00+00:00</td>\n",
       "      <td>105XX S HAMLIN AVE</td>\n",
       "      <td>1153</td>\n",
       "      <td>DECEPTIVE PRACTICE</td>\n",
       "      <td>FINANCIAL IDENTITY THEFT OVER $ 300</td>\n",
       "      <td>RESIDENCE</td>\n",
       "      <td>False</td>\n",
       "      <td>False</td>\n",
       "      <td>...</td>\n",
       "      <td>19</td>\n",
       "      <td>74</td>\n",
       "      <td>11</td>\n",
       "      <td>1152875.0</td>\n",
       "      <td>1834405.0</td>\n",
       "      <td>2019</td>\n",
       "      <td>2019-07-19 16:09:50+00:00</td>\n",
       "      <td>41.701451</td>\n",
       "      <td>-87.715841</td>\n",
       "      <td>(41.70145123, -87.715840704)</td>\n",
       "    </tr>\n",
       "    <tr>\n",
       "      <th>3</th>\n",
       "      <td>11722475</td>\n",
       "      <td>JC306094</td>\n",
       "      <td>2019-06-14 13:10:00+00:00</td>\n",
       "      <td>101XX S MAPLEWOOD AVE</td>\n",
       "      <td>0470</td>\n",
       "      <td>PUBLIC PEACE VIOLATION</td>\n",
       "      <td>RECKLESS CONDUCT</td>\n",
       "      <td>PARK PROPERTY</td>\n",
       "      <td>True</td>\n",
       "      <td>False</td>\n",
       "      <td>...</td>\n",
       "      <td>19</td>\n",
       "      <td>72</td>\n",
       "      <td>24</td>\n",
       "      <td>1161158.0</td>\n",
       "      <td>1837390.0</td>\n",
       "      <td>2019</td>\n",
       "      <td>2019-06-30 15:56:27+00:00</td>\n",
       "      <td>41.709476</td>\n",
       "      <td>-87.685429</td>\n",
       "      <td>(41.709475615, -87.685428543)</td>\n",
       "    </tr>\n",
       "    <tr>\n",
       "      <th>4</th>\n",
       "      <td>11720901</td>\n",
       "      <td>JC304153</td>\n",
       "      <td>2019-06-13 01:52:00+00:00</td>\n",
       "      <td>080XX S STONY ISLAND AVE</td>\n",
       "      <td>5112</td>\n",
       "      <td>OTHER OFFENSE</td>\n",
       "      <td>GUN OFFENDER: DUTY TO REPORT CHANGE OF INFORMA...</td>\n",
       "      <td>STREET</td>\n",
       "      <td>True</td>\n",
       "      <td>False</td>\n",
       "      <td>...</td>\n",
       "      <td>8</td>\n",
       "      <td>45</td>\n",
       "      <td>26</td>\n",
       "      <td>1188208.0</td>\n",
       "      <td>1851885.0</td>\n",
       "      <td>2019</td>\n",
       "      <td>2019-06-30 15:56:27+00:00</td>\n",
       "      <td>41.748650</td>\n",
       "      <td>-87.585908</td>\n",
       "      <td>(41.7486502, -87.58590774)</td>\n",
       "    </tr>\n",
       "  </tbody>\n",
       "</table>\n",
       "<p>5 rows × 22 columns</p>\n",
       "</div>"
      ],
      "text/plain": [
       "   unique_key case_number                      date                     block  \\\n",
       "0    11752880    JC342876 2019-07-10 15:00:00+00:00        021XX S ARCHER AVE   \n",
       "1    11747723    JC336782 2019-07-06 00:02:00+00:00       093XX S ANTHONY AVE   \n",
       "2    11750800    JC340390 2019-06-17 00:00:00+00:00        105XX S HAMLIN AVE   \n",
       "3    11722475    JC306094 2019-06-14 13:10:00+00:00     101XX S MAPLEWOOD AVE   \n",
       "4    11720901    JC304153 2019-06-13 01:52:00+00:00  080XX S STONY ISLAND AVE   \n",
       "\n",
       "   iucr                      primary_type  \\\n",
       "0  0520                           ASSAULT   \n",
       "1  3710  INTERFERENCE WITH PUBLIC OFFICER   \n",
       "2  1153                DECEPTIVE PRACTICE   \n",
       "3  0470            PUBLIC PEACE VIOLATION   \n",
       "4  5112                     OTHER OFFENSE   \n",
       "\n",
       "                                         description location_description  \\\n",
       "0                     AGGRAVATED:KNIFE/CUTTING INSTR                OTHER   \n",
       "1                     RESIST/OBSTRUCT/DISARM OFFICER               STREET   \n",
       "2                FINANCIAL IDENTITY THEFT OVER $ 300            RESIDENCE   \n",
       "3                                   RECKLESS CONDUCT        PARK PROPERTY   \n",
       "4  GUN OFFENDER: DUTY TO REPORT CHANGE OF INFORMA...               STREET   \n",
       "\n",
       "   arrest  domestic              ...                ward  community_area  \\\n",
       "0   False     False              ...                  25              34   \n",
       "1    True     False              ...                  10              48   \n",
       "2   False     False              ...                  19              74   \n",
       "3    True     False              ...                  19              72   \n",
       "4    True     False              ...                   8              45   \n",
       "\n",
       "   fbi_code  x_coordinate y_coordinate  year                updated_on  \\\n",
       "0       04A     1175096.0    1890106.0  2019 2019-07-19 16:09:50+00:00   \n",
       "1        24     1197215.0    1843671.0  2019 2019-07-19 16:09:50+00:00   \n",
       "2        11     1152875.0    1834405.0  2019 2019-07-19 16:09:50+00:00   \n",
       "3        24     1161158.0    1837390.0  2019 2019-06-30 15:56:27+00:00   \n",
       "4        26     1188208.0    1851885.0  2019 2019-06-30 15:56:27+00:00   \n",
       "\n",
       "    latitude  longitude                       location  \n",
       "0  41.853835 -87.632813  (41.853834892, -87.632813038)  \n",
       "1  41.725891 -87.553176  (41.725890891, -87.553176372)  \n",
       "2  41.701451 -87.715841   (41.70145123, -87.715840704)  \n",
       "3  41.709476 -87.685429  (41.709475615, -87.685428543)  \n",
       "4  41.748650 -87.585908     (41.7486502, -87.58590774)  \n",
       "\n",
       "[5 rows x 22 columns]"
      ]
     },
     "execution_count": 9,
     "metadata": {},
     "output_type": "execute_result"
    }
   ],
   "source": [
    "# Write the code here to explore the data so you can find the answer\n",
    "client.list_rows(table, max_results=5).to_dataframe()"
   ]
  },
  {
   "cell_type": "code",
   "execution_count": 10,
   "metadata": {},
   "outputs": [
    {
     "data": {
      "application/javascript": [
       "parent.postMessage({\"jupyterEvent\": \"custom.exercise_interaction\", \"data\": {\"outcomeType\": 1, \"valueTowardsCompletion\": 0.3333333333333333, \"interactionType\": 1, \"questionType\": 2, \"learnTutorialId\": 169, \"questionId\": \"3_IdentifyFieldsForPlotting\", \"learnToolsVersion\": \"0.3.1\", \"failureMessage\": \"\", \"exceptionClass\": \"\", \"trace\": \"\"}}, \"*\")"
      ],
      "text/plain": [
       "<IPython.core.display.Javascript object>"
      ]
     },
     "metadata": {},
     "output_type": "display_data"
    },
    {
     "data": {
      "text/markdown": [
       "<span style=\"color:#33cc33\">Correct</span>"
      ],
      "text/plain": [
       "Correct"
      ]
     },
     "metadata": {},
     "output_type": "display_data"
    }
   ],
   "source": [
    "fields_for_plotting = ['latitude', 'longitude'] # Put your answers here\n",
    "\n",
    "q_3.check()"
   ]
  },
  {
   "cell_type": "markdown",
   "metadata": {},
   "source": [
    "For a hint or the solution, uncomment the appropriate line below."
   ]
  },
  {
   "cell_type": "code",
   "execution_count": 11,
   "metadata": {},
   "outputs": [],
   "source": [
    "#q_3.hint()\n",
    "#q_3.solution()"
   ]
  },
  {
   "cell_type": "markdown",
   "metadata": {},
   "source": [
    "Thinking about the question above, there are a few columns that appear to have geographic data. Look at a few values (with the `list_rows()` command) to see if you can determine their relationship.  Two columns will still be hard to interpret. But it should be obvious how the `location` column relates to `latitude` and `longitude`."
   ]
  },
  {
   "cell_type": "code",
   "execution_count": 12,
   "metadata": {},
   "outputs": [
    {
     "data": {
      "text/html": [
       "<div>\n",
       "<style scoped>\n",
       "    .dataframe tbody tr th:only-of-type {\n",
       "        vertical-align: middle;\n",
       "    }\n",
       "\n",
       "    .dataframe tbody tr th {\n",
       "        vertical-align: top;\n",
       "    }\n",
       "\n",
       "    .dataframe thead th {\n",
       "        text-align: right;\n",
       "    }\n",
       "</style>\n",
       "<table border=\"1\" class=\"dataframe\">\n",
       "  <thead>\n",
       "    <tr style=\"text-align: right;\">\n",
       "      <th></th>\n",
       "      <th>unique_key</th>\n",
       "      <th>case_number</th>\n",
       "      <th>date</th>\n",
       "      <th>block</th>\n",
       "      <th>iucr</th>\n",
       "      <th>primary_type</th>\n",
       "      <th>description</th>\n",
       "      <th>location_description</th>\n",
       "      <th>arrest</th>\n",
       "      <th>domestic</th>\n",
       "      <th>...</th>\n",
       "      <th>ward</th>\n",
       "      <th>community_area</th>\n",
       "      <th>fbi_code</th>\n",
       "      <th>x_coordinate</th>\n",
       "      <th>y_coordinate</th>\n",
       "      <th>year</th>\n",
       "      <th>updated_on</th>\n",
       "      <th>latitude</th>\n",
       "      <th>longitude</th>\n",
       "      <th>location</th>\n",
       "    </tr>\n",
       "  </thead>\n",
       "  <tbody>\n",
       "    <tr>\n",
       "      <th>0</th>\n",
       "      <td>11752880</td>\n",
       "      <td>JC342876</td>\n",
       "      <td>2019-07-10 15:00:00+00:00</td>\n",
       "      <td>021XX S ARCHER AVE</td>\n",
       "      <td>0520</td>\n",
       "      <td>ASSAULT</td>\n",
       "      <td>AGGRAVATED:KNIFE/CUTTING INSTR</td>\n",
       "      <td>OTHER</td>\n",
       "      <td>False</td>\n",
       "      <td>False</td>\n",
       "      <td>...</td>\n",
       "      <td>25</td>\n",
       "      <td>34</td>\n",
       "      <td>04A</td>\n",
       "      <td>1175096.0</td>\n",
       "      <td>1890106.0</td>\n",
       "      <td>2019</td>\n",
       "      <td>2019-07-19 16:09:50+00:00</td>\n",
       "      <td>41.853835</td>\n",
       "      <td>-87.632813</td>\n",
       "      <td>(41.853834892, -87.632813038)</td>\n",
       "    </tr>\n",
       "    <tr>\n",
       "      <th>1</th>\n",
       "      <td>11747723</td>\n",
       "      <td>JC336782</td>\n",
       "      <td>2019-07-06 00:02:00+00:00</td>\n",
       "      <td>093XX S ANTHONY AVE</td>\n",
       "      <td>3710</td>\n",
       "      <td>INTERFERENCE WITH PUBLIC OFFICER</td>\n",
       "      <td>RESIST/OBSTRUCT/DISARM OFFICER</td>\n",
       "      <td>STREET</td>\n",
       "      <td>True</td>\n",
       "      <td>False</td>\n",
       "      <td>...</td>\n",
       "      <td>10</td>\n",
       "      <td>48</td>\n",
       "      <td>24</td>\n",
       "      <td>1197215.0</td>\n",
       "      <td>1843671.0</td>\n",
       "      <td>2019</td>\n",
       "      <td>2019-07-19 16:09:50+00:00</td>\n",
       "      <td>41.725891</td>\n",
       "      <td>-87.553176</td>\n",
       "      <td>(41.725890891, -87.553176372)</td>\n",
       "    </tr>\n",
       "    <tr>\n",
       "      <th>2</th>\n",
       "      <td>11750800</td>\n",
       "      <td>JC340390</td>\n",
       "      <td>2019-06-17 00:00:00+00:00</td>\n",
       "      <td>105XX S HAMLIN AVE</td>\n",
       "      <td>1153</td>\n",
       "      <td>DECEPTIVE PRACTICE</td>\n",
       "      <td>FINANCIAL IDENTITY THEFT OVER $ 300</td>\n",
       "      <td>RESIDENCE</td>\n",
       "      <td>False</td>\n",
       "      <td>False</td>\n",
       "      <td>...</td>\n",
       "      <td>19</td>\n",
       "      <td>74</td>\n",
       "      <td>11</td>\n",
       "      <td>1152875.0</td>\n",
       "      <td>1834405.0</td>\n",
       "      <td>2019</td>\n",
       "      <td>2019-07-19 16:09:50+00:00</td>\n",
       "      <td>41.701451</td>\n",
       "      <td>-87.715841</td>\n",
       "      <td>(41.70145123, -87.715840704)</td>\n",
       "    </tr>\n",
       "    <tr>\n",
       "      <th>3</th>\n",
       "      <td>11722475</td>\n",
       "      <td>JC306094</td>\n",
       "      <td>2019-06-14 13:10:00+00:00</td>\n",
       "      <td>101XX S MAPLEWOOD AVE</td>\n",
       "      <td>0470</td>\n",
       "      <td>PUBLIC PEACE VIOLATION</td>\n",
       "      <td>RECKLESS CONDUCT</td>\n",
       "      <td>PARK PROPERTY</td>\n",
       "      <td>True</td>\n",
       "      <td>False</td>\n",
       "      <td>...</td>\n",
       "      <td>19</td>\n",
       "      <td>72</td>\n",
       "      <td>24</td>\n",
       "      <td>1161158.0</td>\n",
       "      <td>1837390.0</td>\n",
       "      <td>2019</td>\n",
       "      <td>2019-06-30 15:56:27+00:00</td>\n",
       "      <td>41.709476</td>\n",
       "      <td>-87.685429</td>\n",
       "      <td>(41.709475615, -87.685428543)</td>\n",
       "    </tr>\n",
       "    <tr>\n",
       "      <th>4</th>\n",
       "      <td>11720901</td>\n",
       "      <td>JC304153</td>\n",
       "      <td>2019-06-13 01:52:00+00:00</td>\n",
       "      <td>080XX S STONY ISLAND AVE</td>\n",
       "      <td>5112</td>\n",
       "      <td>OTHER OFFENSE</td>\n",
       "      <td>GUN OFFENDER: DUTY TO REPORT CHANGE OF INFORMA...</td>\n",
       "      <td>STREET</td>\n",
       "      <td>True</td>\n",
       "      <td>False</td>\n",
       "      <td>...</td>\n",
       "      <td>8</td>\n",
       "      <td>45</td>\n",
       "      <td>26</td>\n",
       "      <td>1188208.0</td>\n",
       "      <td>1851885.0</td>\n",
       "      <td>2019</td>\n",
       "      <td>2019-06-30 15:56:27+00:00</td>\n",
       "      <td>41.748650</td>\n",
       "      <td>-87.585908</td>\n",
       "      <td>(41.7486502, -87.58590774)</td>\n",
       "    </tr>\n",
       "  </tbody>\n",
       "</table>\n",
       "<p>5 rows × 22 columns</p>\n",
       "</div>"
      ],
      "text/plain": [
       "   unique_key case_number                      date                     block  \\\n",
       "0    11752880    JC342876 2019-07-10 15:00:00+00:00        021XX S ARCHER AVE   \n",
       "1    11747723    JC336782 2019-07-06 00:02:00+00:00       093XX S ANTHONY AVE   \n",
       "2    11750800    JC340390 2019-06-17 00:00:00+00:00        105XX S HAMLIN AVE   \n",
       "3    11722475    JC306094 2019-06-14 13:10:00+00:00     101XX S MAPLEWOOD AVE   \n",
       "4    11720901    JC304153 2019-06-13 01:52:00+00:00  080XX S STONY ISLAND AVE   \n",
       "\n",
       "   iucr                      primary_type  \\\n",
       "0  0520                           ASSAULT   \n",
       "1  3710  INTERFERENCE WITH PUBLIC OFFICER   \n",
       "2  1153                DECEPTIVE PRACTICE   \n",
       "3  0470            PUBLIC PEACE VIOLATION   \n",
       "4  5112                     OTHER OFFENSE   \n",
       "\n",
       "                                         description location_description  \\\n",
       "0                     AGGRAVATED:KNIFE/CUTTING INSTR                OTHER   \n",
       "1                     RESIST/OBSTRUCT/DISARM OFFICER               STREET   \n",
       "2                FINANCIAL IDENTITY THEFT OVER $ 300            RESIDENCE   \n",
       "3                                   RECKLESS CONDUCT        PARK PROPERTY   \n",
       "4  GUN OFFENDER: DUTY TO REPORT CHANGE OF INFORMA...               STREET   \n",
       "\n",
       "   arrest  domestic              ...                ward  community_area  \\\n",
       "0   False     False              ...                  25              34   \n",
       "1    True     False              ...                  10              48   \n",
       "2   False     False              ...                  19              74   \n",
       "3    True     False              ...                  19              72   \n",
       "4    True     False              ...                   8              45   \n",
       "\n",
       "   fbi_code  x_coordinate y_coordinate  year                updated_on  \\\n",
       "0       04A     1175096.0    1890106.0  2019 2019-07-19 16:09:50+00:00   \n",
       "1        24     1197215.0    1843671.0  2019 2019-07-19 16:09:50+00:00   \n",
       "2        11     1152875.0    1834405.0  2019 2019-07-19 16:09:50+00:00   \n",
       "3        24     1161158.0    1837390.0  2019 2019-06-30 15:56:27+00:00   \n",
       "4        26     1188208.0    1851885.0  2019 2019-06-30 15:56:27+00:00   \n",
       "\n",
       "    latitude  longitude                       location  \n",
       "0  41.853835 -87.632813  (41.853834892, -87.632813038)  \n",
       "1  41.725891 -87.553176  (41.725890891, -87.553176372)  \n",
       "2  41.701451 -87.715841   (41.70145123, -87.715840704)  \n",
       "3  41.709476 -87.685429  (41.709475615, -87.685428543)  \n",
       "4  41.748650 -87.585908     (41.7486502, -87.58590774)  \n",
       "\n",
       "[5 rows x 22 columns]"
      ]
     },
     "execution_count": 12,
     "metadata": {},
     "output_type": "execute_result"
    }
   ],
   "source": [
    "# Scratch space for your code\n",
    "client.list_rows(table, max_results=5).to_dataframe()\n",
    "#x_coordinate and y_coordinate?"
   ]
  },
  {
   "cell_type": "markdown",
   "metadata": {},
   "source": [
    "# Bunk Time\n",
    "Here as part of the SQL Summer Camp?\n",
    "\n",
    "Time to head back to the bunk. You'll get another email tomorrow to start your next camp day."
   ]
  },
  {
   "cell_type": "markdown",
   "metadata": {},
   "source": [
    "---\n",
    "**[SQL Micro-Course Home Page](https://www.kaggle.com/learn/intro-to-sql)**\n",
    "\n"
   ]
  }
 ],
 "metadata": {
  "kernelspec": {
   "display_name": "Python 3",
   "language": "python",
   "name": "python3"
  },
  "language_info": {
   "codemirror_mode": {
    "name": "ipython",
    "version": 3
   },
   "file_extension": ".py",
   "mimetype": "text/x-python",
   "name": "python",
   "nbconvert_exporter": "python",
   "pygments_lexer": "ipython3",
   "version": "3.6.6"
  }
 },
 "nbformat": 4,
 "nbformat_minor": 1
}
